{
 "cells": [
  {
   "cell_type": "code",
   "execution_count": null,
   "metadata": {
    "collapsed": false
   },
   "outputs": [],
   "source": [
    "import pandas as pd\n",
    "import nimfa"
   ]
  },
  {
   "cell_type": "code",
   "execution_count": null,
   "metadata": {
    "collapsed": false
   },
   "outputs": [],
   "source": [
    "df = pd.read_excel(\"../data/uk_general_election_results_2015.xlsx\", sheetname=3)\n",
    "cols = df.columns.tolist()[10:]\n",
    "\n",
    "shares = df[cols].copy()\n",
    "shares.fillna(0, inplace=True)\n",
    "\n",
    "for col in cols:\n",
    "    shares[col] = shares[col] / df[\"Electorate\"]\n"
   ]
  },
  {
   "cell_type": "code",
   "execution_count": null,
   "metadata": {
    "collapsed": false
   },
   "outputs": [],
   "source": [
    "V = shares.as_matrix()\n",
    "nmf = nimfa.Nmf(V, seed=\"nndsvd\", rank=3, max_iter=1000, update='divergence',\n",
    "                objective='div')\n",
    "nmf_fit = nmf()"
   ]
  },
  {
   "cell_type": "code",
   "execution_count": null,
   "metadata": {
    "collapsed": false
   },
   "outputs": [],
   "source": [
    "# Con\n",
    "print(nmf_fit.coef()[:, 16])\n",
    "\n",
    "# Lab\n",
    "print(nmf_fit.coef()[:, 58])\n",
    "\n",
    "# LD\n",
    "print(nmf_fit.coef()[:, 60])\n",
    "\n",
    "# Green\n",
    "print(nmf_fit.coef()[:, 42])\n",
    "\n",
    "# UKIP\n",
    "print(nmf_fit.coef()[:, 120])"
   ]
  },
  {
   "cell_type": "code",
   "execution_count": null,
   "metadata": {
    "collapsed": false
   },
   "outputs": [],
   "source": [
    "cols.index(\"UKIP\")"
   ]
  },
  {
   "cell_type": "code",
   "execution_count": null,
   "metadata": {
    "collapsed": false
   },
   "outputs": [],
   "source": [
    "V.sum(axis=1)"
   ]
  },
  {
   "cell_type": "code",
   "execution_count": null,
   "metadata": {
    "collapsed": true
   },
   "outputs": [],
   "source": []
  }
 ],
 "metadata": {
  "anaconda-cloud": {},
  "kernelspec": {
   "display_name": "Python [conda env:matfact]",
   "language": "python",
   "name": "conda-env-matfact-py"
  },
  "language_info": {
   "codemirror_mode": {
    "name": "ipython",
    "version": 3
   },
   "file_extension": ".py",
   "mimetype": "text/x-python",
   "name": "python",
   "nbconvert_exporter": "python",
   "pygments_lexer": "ipython3",
   "version": "3.5.3"
  }
 },
 "nbformat": 4,
 "nbformat_minor": 1
}
